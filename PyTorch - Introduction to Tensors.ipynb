{
 "cells": [
  {
   "cell_type": "code",
   "execution_count": 1,
   "id": "4b8f8664",
   "metadata": {},
   "outputs": [
    {
     "data": {
      "text/plain": [
       "'2.1.0.dev20230418'"
      ]
     },
     "execution_count": 1,
     "metadata": {},
     "output_type": "execute_result"
    }
   ],
   "source": [
    "import torch\n",
    "torch.__version__"
   ]
  },
  {
   "cell_type": "code",
   "execution_count": 3,
   "id": "115df872",
   "metadata": {},
   "outputs": [
    {
     "name": "stdout",
     "output_type": "stream",
     "text": [
      "tensor([[0.5335, 0.8181, 0.0974],\n",
      "        [0.7531, 0.8504, 0.0981],\n",
      "        [0.8505, 0.3563, 0.1402],\n",
      "        [0.9667, 0.6899, 0.2980],\n",
      "        [0.5199, 0.8657, 0.2430]])\n"
     ]
    }
   ],
   "source": [
    "x = torch.rand(5, 3)\n",
    "print(x)"
   ]
  },
  {
   "cell_type": "code",
   "execution_count": 10,
   "id": "0a5af8e3",
   "metadata": {},
   "outputs": [
    {
     "data": {
      "text/plain": [
       "tensor(7)"
      ]
     },
     "execution_count": 10,
     "metadata": {},
     "output_type": "execute_result"
    }
   ],
   "source": [
    "#creating a SCALAR = a single number and it's a zero dimension tensor\n",
    "scalar = torch.tensor(7)\n",
    "scalar"
   ]
  },
  {
   "cell_type": "code",
   "execution_count": 12,
   "id": "712e615c",
   "metadata": {},
   "outputs": [
    {
     "data": {
      "text/plain": [
       "0"
      ]
     },
     "execution_count": 12,
     "metadata": {},
     "output_type": "execute_result"
    }
   ],
   "source": [
    "#check the dimensions of a tensor\n",
    "scalar.ndim"
   ]
  },
  {
   "cell_type": "code",
   "execution_count": 16,
   "id": "e1e569ac",
   "metadata": {},
   "outputs": [
    {
     "name": "stdout",
     "output_type": "stream",
     "text": [
      "The dimension of vector is 1\n",
      "The number of elements inside the vector is torch.Size([2])\n"
     ]
    }
   ],
   "source": [
    "#create a tensor object with 2 elements in 1 dimension\n",
    "vector = torch.tensor([7, 7])\n",
    "print(\"The dimension of vector is \" + str(vector.ndim))\n",
    "print(\"The number of elements inside the vector is \" + str(vector.shape))"
   ]
  },
  {
   "cell_type": "markdown",
   "id": "20a6e935",
   "metadata": {},
   "source": [
    "* matrix is a multiple vectors combined.\n",
    "\n",
    "* number of dimensions in a matrix = number of \"[\" on one side of the matrix"
   ]
  },
  {
   "cell_type": "code",
   "execution_count": 22,
   "id": "5e5c89cf",
   "metadata": {},
   "outputs": [
    {
     "name": "stdout",
     "output_type": "stream",
     "text": [
      "The shape of the matrix is: torch.Size([2, 2])\n"
     ]
    }
   ],
   "source": [
    "MATRIX = torch.tensor([[7,8], [9, 10]])\n",
    "MATRIX.ndim\n",
    "print(\"The shape of the matrix is: \"+str(matrix.shape))"
   ]
  },
  {
   "cell_type": "markdown",
   "id": "2147df38",
   "metadata": {},
   "source": [
    "* Note that MATRIX, TENSOR is usually denoted with capitals; scalar, vector with regular\n",
    "\n",
    "### scalar < vector < matrix < tensor"
   ]
  },
  {
   "cell_type": "code",
   "execution_count": 23,
   "id": "20464146",
   "metadata": {},
   "outputs": [
    {
     "data": {
      "text/plain": [
       "(tensor([[0.7980, 0.8786, 0.8854, 0.6030, 0.8769],\n",
       "         [0.7908, 0.7495, 0.5271, 0.2237, 0.9415],\n",
       "         [0.9012, 0.3845, 0.5082, 0.4489, 0.0028],\n",
       "         [0.9917, 0.5022, 0.8552, 0.4559, 0.6612]]),\n",
       " torch.float32)"
      ]
     },
     "execution_count": 23,
     "metadata": {},
     "output_type": "execute_result"
    }
   ],
   "source": [
    "#use rand function to create a random tensor\n",
    "RANDOM_TENSOR = torch.rand(size = (4, 5))\n",
    "RANDOM_TENSOR, RANDOM_TENSOR.dtype"
   ]
  },
  {
   "cell_type": "code",
   "execution_count": 24,
   "id": "ec98f3f9",
   "metadata": {},
   "outputs": [
    {
     "name": "stdout",
     "output_type": "stream",
     "text": [
      "The shape of the tensor is torch.Size([200, 200, 4])\n",
      "The number of dimensions is 3\n"
     ]
    }
   ],
   "source": [
    "#use rand to create a tensor with shape of [200, 200, 4]\n",
    "RANDOM_IMAGE_SIZE_TENSOR = torch.rand(size = (200, 200, 4))\n",
    "print(\"The shape of the tensor is \"+str(RANDOM_IMAGE_SIZE_TENSOR.shape))\n",
    "print(\"The number of dimensions is \"+str(RANDOM_IMAGE_SIZE_TENSOR.ndim))"
   ]
  },
  {
   "cell_type": "markdown",
   "id": "92e13038",
   "metadata": {},
   "source": [
    "### Create a random tensor with 0 and 1"
   ]
  },
  {
   "cell_type": "code",
   "execution_count": 26,
   "id": "132f5ba4",
   "metadata": {},
   "outputs": [
    {
     "name": "stdout",
     "output_type": "stream",
     "text": [
      "tensor([[[0., 0., 0., 0.],\n",
      "         [0., 0., 0., 0.],\n",
      "         [0., 0., 0., 0.],\n",
      "         [0., 0., 0., 0.]],\n",
      "\n",
      "        [[0., 0., 0., 0.],\n",
      "         [0., 0., 0., 0.],\n",
      "         [0., 0., 0., 0.],\n",
      "         [0., 0., 0., 0.]],\n",
      "\n",
      "        [[0., 0., 0., 0.],\n",
      "         [0., 0., 0., 0.],\n",
      "         [0., 0., 0., 0.],\n",
      "         [0., 0., 0., 0.]]])\n"
     ]
    }
   ],
   "source": [
    "zeros = torch.zeros(size=(3, 4, 4))\n",
    "print(zeros)"
   ]
  },
  {
   "cell_type": "code",
   "execution_count": 27,
   "id": "c7681f62",
   "metadata": {},
   "outputs": [
    {
     "name": "stdout",
     "output_type": "stream",
     "text": [
      "tensor([[[1., 1., 1., 1.],\n",
      "         [1., 1., 1., 1.],\n",
      "         [1., 1., 1., 1.],\n",
      "         [1., 1., 1., 1.]],\n",
      "\n",
      "        [[1., 1., 1., 1.],\n",
      "         [1., 1., 1., 1.],\n",
      "         [1., 1., 1., 1.],\n",
      "         [1., 1., 1., 1.]],\n",
      "\n",
      "        [[1., 1., 1., 1.],\n",
      "         [1., 1., 1., 1.],\n",
      "         [1., 1., 1., 1.],\n",
      "         [1., 1., 1., 1.]]])\n"
     ]
    }
   ],
   "source": [
    "ones = torch.ones(size=(3, 4, 4))\n",
    "print(ones)"
   ]
  },
  {
   "cell_type": "markdown",
   "id": "e618ec8b",
   "metadata": {},
   "source": [
    "### Create a range and tensors like"
   ]
  },
  {
   "cell_type": "code",
   "execution_count": 29,
   "id": "66cad328",
   "metadata": {},
   "outputs": [
    {
     "name": "stdout",
     "output_type": "stream",
     "text": [
      "tensor([0, 1, 2, 3, 4, 5, 6, 7, 8])\n"
     ]
    }
   ],
   "source": [
    "zero_to_nine = torch.arange(start=0, end=9, step=1)\n",
    "print(zero_to_nine)"
   ]
  },
  {
   "cell_type": "markdown",
   "id": "6b872fb5",
   "metadata": {},
   "source": [
    "* Create a tensor of a certain type with the same shape as another tensor"
   ]
  },
  {
   "cell_type": "code",
   "execution_count": 30,
   "id": "4af3c55c",
   "metadata": {},
   "outputs": [
    {
     "name": "stdout",
     "output_type": "stream",
     "text": [
      "tensor([1, 1, 1, 1, 1, 1, 1, 1, 1])\n"
     ]
    }
   ],
   "source": [
    "nine_ones = torch.ones_like(input=zero_to_nine)\n",
    "print(nine_ones)"
   ]
  },
  {
   "cell_type": "code",
   "execution_count": null,
   "id": "a590f536",
   "metadata": {},
   "outputs": [],
   "source": []
  }
 ],
 "metadata": {
  "kernelspec": {
   "display_name": "Python 3 (ipykernel)",
   "language": "python",
   "name": "python3"
  },
  "language_info": {
   "codemirror_mode": {
    "name": "ipython",
    "version": 3
   },
   "file_extension": ".py",
   "mimetype": "text/x-python",
   "name": "python",
   "nbconvert_exporter": "python",
   "pygments_lexer": "ipython3",
   "version": "3.9.13"
  }
 },
 "nbformat": 4,
 "nbformat_minor": 5
}
